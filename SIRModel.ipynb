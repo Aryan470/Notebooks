{
  "nbformat": 4,
  "nbformat_minor": 0,
  "metadata": {
    "colab": {
      "name": "SIRModel.ipynb",
      "provenance": [],
      "collapsed_sections": [],
      "toc_visible": true
    },
    "kernelspec": {
      "name": "python3",
      "display_name": "Python 3"
    }
  },
  "cells": [
    {
      "cell_type": "markdown",
      "metadata": {
        "id": "hyuBAvl7tA2C",
        "colab_type": "text"
      },
      "source": [
        "# **Introduction**\n",
        "## The SIR Epidemic Model\n",
        "SIR stands for susceptible, infected, and recovered (or removed). Infected people can infect susceptible people, but recovered people are immune and noncontagious, or possibly deceased. The model also provides three differential equations describing the movement of the population between these three groups. These three categories and the rules governing them are the basis of this low-level model.\n",
        "\n",
        "## Implementation\n",
        "To implement this model, we will take 3 steps:\n",
        "### 1. Define the functions for the rates of change\n",
        "For each variable $S$, $I$, and $R$, the model has an ordinary differential equation defining its derivative in terms of the itself and the other variables.\n",
        " \n",
        "This simply means that given the current values of the three variables, you can calculate how much they will change after one timestep.\n",
        "\n",
        "### 2. Define the initial conditions\n",
        "To compute anything, we must define the total population and the the intial values of the variables $S$, $I$, and $R$. Generally, we would see about 99.9% of the population initially susceptible, 0.1% infected, and 0% recovered. The total population, $N$, can be any number and the behaviour should not change. We can also use 1 or 100 for $N$ to see the values of the variables as percents rather than actual numbers.\n",
        "\n",
        "We will also need to define $\\beta$ (beta) and $\\gamma$ (gamma). These are parameters that alter the course of the disease. $\\beta$ represents the rate of infection per interaction. $\\gamma$ represents the rate of recovery for infected people. A higher $\\beta$ and lower $\\gamma$ worsens the epidemic, and vice versa. This makes sense intuitively because if the disease is less contagious, and people recover faster, it is much easier to contain.\n",
        "\n",
        "> $\\beta$ of 0.2 means in every interaction with an infected person, a susceptible person has a 20% chance of getting infected\n",
        "\n",
        "> $\\gamma$ of 0.1 ($\\frac{1}{10}$) means it takes an infected person 10 days to recover.\n",
        "\n",
        "### 3. Calculate the changes and their effects:\n",
        "Over a range of time, ($0.0$ to $t_{max}$, incremented by $\\Delta t$), we take the previous values of $S$, $I$, and $R$, and then calculate the change in each of them after one timestep. Now we take these changes and add them to the previous values to get the new ones. This process is described in more detail later.\n",
        "\n",
        "> Ideally, I would be using a more complex model, analytical solutions to differential equations, and fitting the model to actual data. However, since I'm not an epidemiologist, I get a pass.\n",
        "\n"
      ]
    },
    {
      "cell_type": "code",
      "metadata": {
        "id": "WtNVWwN9NWL-",
        "colab_type": "code",
        "colab": {}
      },
      "source": [
        "# Importing the packages we need for creating and manipulating data\n",
        "import sklearn as sk\n",
        "import matplotlib.pyplot as plt\n",
        "import numpy as np\n",
        "import ipywidgets as widgets\n",
        "from IPython.display import clear_output"
      ],
      "execution_count": 0,
      "outputs": []
    },
    {
      "cell_type": "markdown",
      "metadata": {
        "id": "Ad7YF3ufmfs3",
        "colab_type": "text"
      },
      "source": [
        "# **Creating the Model**\n",
        "\n",
        "## Initializing Model Values\n",
        "We set up the initial conditions\n",
        "*   Initial infected\n",
        "*   Initial susceptible as the rest of the population\n",
        "*   Initial recovered as 0 people\n",
        "\n",
        "## Defining Differential Equations\n",
        "### Variables:\n",
        "* $N$ is the total population\n",
        "* $S$ is the current susceptible population\n",
        "* $I$ is the current infected population\n",
        "* $R$ is the current recovered population\n",
        "* $\\beta$ (beta) is the rate of infections per interaction\n",
        "* $\\gamma$ (gamma) is the rate of recovery for an infection\n",
        "\n",
        "### Equations\n",
        "* The rate of change for the susceptible population is\n",
        "$$\\frac{dS}{dt}=-\\frac{\\beta SI}{N}$$\n",
        "$$Change\\: in\\: Susceptible = -New\\: Infections$$\n",
        "> Because of all the interactions between susceptible and infected people, a portion of the susceptible people become infected\n",
        "* The rate of change for the infected population is\n",
        "$$\\frac{dI}{dt}=\\frac{\\beta SI}{N}-\\gamma I$$\n",
        "$$Change\\: in\\: Infected = New\\: Infections - New\\: Recoveries$$\n",
        "> The current number of active infections is increased by the new infections, and decreased by number of people recovering\n",
        "* The rate of change for the recovered (removed) population is\n",
        "$$\\frac{dR}{dt}=\\gamma I$$\n",
        "$$Change\\: in\\: Recovered = New\\: Recoveries$$\n",
        "> The recovered population is the sum of all recoveries over time\n",
        "\n",
        "* Additionally, we know that at any time the population will be constant.\n",
        "$$S + I + R = N$$\n",
        "$$dS + dI + dR = 0$$\n",
        "> The sum of all the categories will be the population, and the sum of all changes will be zero because no people join or leave the population."
      ]
    },
    {
      "cell_type": "code",
      "metadata": {
        "id": "6h52DkYxN_BH",
        "colab_type": "code",
        "outputId": "82004b60-f9bc-4b54-f36d-471063a7788a",
        "colab": {
          "base_uri": "https://localhost:8080/",
          "height": 68
        }
      },
      "source": [
        "# Population of 100000\n",
        "p = 100000\n",
        "\n",
        "# Infected is 0.1% of the population\n",
        "initial_infected = p / 1000\n",
        "# Susceptible is everyone else\n",
        "initial_susceptible = p - initial_infected\n",
        "initial_recovered = 0\n",
        "\n",
        "# Implementation of differential equations\n",
        "\n",
        "# Change in susceptible\n",
        "def dSdt(S, I, R):\n",
        "  return -beta * S * I / p\n",
        "\n",
        "# Change in infected\n",
        "def dIdt(S, I, R):\n",
        "  return (beta * S * I / p) - (gamma * I)\n",
        "\n",
        "# Change in recovered\n",
        "def dRdt(S, I, R):\n",
        "  return gamma * I\n",
        "\n",
        "print(\"Initial Infected: \", initial_infected)\n",
        "print(\"Initial Susceptible \", initial_susceptible)\n",
        "print(\"Initial Recovered: \", initial_recovered)"
      ],
      "execution_count": 0,
      "outputs": [
        {
          "output_type": "stream",
          "text": [
            "Initial Infected:  100.0\n",
            "Initial Susceptible  99900.0\n",
            "Initial Recovered:  0\n"
          ],
          "name": "stdout"
        }
      ]
    },
    {
      "cell_type": "markdown",
      "metadata": {
        "id": "4kFGfyKXjN-M",
        "colab_type": "text"
      },
      "source": [
        "We give initial values to $\\beta$ and $\\gamma$ and define our timespan\n",
        "\n",
        "> `dt` is our artificial, finite $dt$ because we will use a numerical solution for the differential equations, not an analytical one"
      ]
    },
    {
      "cell_type": "code",
      "metadata": {
        "id": "Wam9Pus6PqrX",
        "colab_type": "code",
        "colab": {}
      },
      "source": [
        "beta = 0.15\n",
        "gamma = 0.06\n",
        "\n",
        "dt = 0.001\n",
        "max_time = 180\n",
        "time = np.arange(0, max_time + dt, dt)"
      ],
      "execution_count": 0,
      "outputs": []
    },
    {
      "cell_type": "markdown",
      "metadata": {
        "id": "wudPqDwkm3Lj",
        "colab_type": "text"
      },
      "source": [
        "# **Simulation**\n",
        "Now it's time to actually run the simulation, there are 2 steps\n",
        "1. Create the lists for $S$, $I$, and $R$ over time, with the first elements being the initial conditions\n",
        "2. At every time $t$\n",
        "\n",
        " a. Calculate the new variable values:\n",
        "$$\\Delta x = \\frac{dx}{dt}(t) * \\Delta t \\\\\n",
        "x_{t} = x_{t-1} + \\Delta x$$\n",
        "  + $x$ represents $S$, $I$, and $R$\n",
        "  + $\\frac{dx}{dt}(t)$ represents the change we obtained from the differential equations at time $t$ (can also be thought of as slope)\n",
        "  + $\\Delta$ means \"change in\"\n",
        "\n",
        "  b. Add new values to their respective lists"
      ]
    },
    {
      "cell_type": "code",
      "metadata": {
        "id": "5wvwpJnem1SB",
        "colab_type": "code",
        "colab": {}
      },
      "source": [
        "def simulate():\n",
        "  S = [initial_susceptible]\n",
        "  I = [initial_infected]\n",
        "  R = [initial_recovered]\n",
        "  for t in time[1:]:\n",
        "    newS = S[-1] + dSdt(S[-1], I[-1], R[-1]) * dt\n",
        "    newI = I[-1] + dIdt(S[-1], I[-1], R[-1]) * dt\n",
        "    newR = R[-1] + dRdt(S[-1], I[-1], R[-1]) * dt\n",
        "    S.append(newS)\n",
        "    I.append(newI)\n",
        "    R.append(newR)\n",
        "  return S, I, R"
      ],
      "execution_count": 0,
      "outputs": []
    },
    {
      "cell_type": "markdown",
      "metadata": {
        "id": "COCaZUCdr4c4",
        "colab_type": "text"
      },
      "source": [
        "# **Visualizing the results**\n",
        "We create a new plot, with the $S$, $I$, and $R$ values on the y-axis and the time on the x-axis"
      ]
    },
    {
      "cell_type": "code",
      "metadata": {
        "id": "LsLcptvNQXAf",
        "colab_type": "code",
        "outputId": "626c4633-0bc9-43d5-c01b-320029b6a2af",
        "colab": {
          "base_uri": "https://localhost:8080/",
          "height": 295
        }
      },
      "source": [
        "def visualize(b=None):\n",
        "  fig, ax = plt.subplots()\n",
        "  S, I, R = simulate()\n",
        "  ax.set_title(\"SIR Model\")\n",
        "  ax.plot(time, S, label=\"Susceptible\")\n",
        "  ax.plot(time, I, label=\"Infected\")\n",
        "  ax.plot(time, R, label=\"Recovered\")\n",
        "  ax.set_xlabel(\"Time\")\n",
        "  ax.set_ylabel(\"Number of people\")\n",
        "  #ax.set_yscale(\"log\")\n",
        "  plt.legend()\n",
        "visualize()"
      ],
      "execution_count": 0,
      "outputs": [
        {
          "output_type": "display_data",
          "data": {
            "image/png": "[encoded data removed]",
            "text/plain": [
              "<Figure size 432x288 with 1 Axes>"
            ]
          },
          "metadata": {
            "tags": []
          }
        }
      ]
    },
    {
      "cell_type": "markdown",
      "metadata": {
        "id": "S_FVYPSnyr6Y",
        "colab_type": "text"
      },
      "source": [
        "# **Configurable runs**\n",
        "Here you can adjust any of the parameters and rerun the simulation to see how the affect the system"
      ]
    },
    {
      "cell_type": "code",
      "metadata": {
        "id": "kEWLiROKypdY",
        "colab_type": "code",
        "outputId": "16932c1b-1bc6-42e2-e403-737a551c1fbb",
        "colab": {
          "base_uri": "https://localhost:8080/",
          "height": 295
        }
      },
      "source": [
        "#@title Parameters {run:\"auto\"}\n",
        "\n",
        "p = 600 #@param {type:\"slider\", min:0, max:100000, step:100}\n",
        "\n",
        "percent_infected = 0.01 #@param {type:\"slider\", min:0, max:100, step:0.1}\n",
        "\n",
        "beta = 0.25 #@param {type:\"slider\", min:0, max:2, step:0.01}\n",
        "gamma = 0.04761904761 #@param {type:\"slider\", min:0, max:1, step:0.01}\n",
        "\n",
        "dt = 0.0156 #@param {type:\"slider\", min:0, max:0.5, step:0.0001}\n",
        "max_time = 100 #@param {type:\"slider\", min:0, max:300, step:1}\n",
        "initial_infected = p * percent_infected * 0.01\n",
        "initial_susceptible = p - initial_infected\n",
        "initial_recovered = 0\n",
        "time = np.arange(0, max_time + dt, dt)\n",
        "\n",
        "clear_output()\n",
        "visualize()"
      ],
      "execution_count": 0,
      "outputs": [
        {
          "output_type": "display_data",
          "data": {
            "image/png": "[encoded data removed]",
            "text/plain": [
              "<Figure size 432x288 with 1 Axes>"
            ]
          },
          "metadata": {
            "tags": []
          }
        }
      ]
    }
  ]
}